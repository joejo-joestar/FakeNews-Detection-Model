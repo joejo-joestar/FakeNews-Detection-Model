{
 "cells": [
  {
   "cell_type": "markdown",
   "metadata": {},
   "source": [
    "## Imports"
   ]
  },
  {
   "cell_type": "code",
   "execution_count": null,
   "metadata": {},
   "outputs": [],
   "source": [
    "import pandas as pd\n",
    "import numpy as np\n",
    "from scipy.sparse import csr_matrix, issparse\n",
    "import matplotlib.pyplot as plt\n",
    "import seaborn as sns\n",
    "\n",
    "from sklearn.model_selection import KFold\n",
    "from sklearn.feature_extraction.text import TfidfVectorizer, CountVectorizer\n",
    "from sklearn.feature_selection import SelectKBest, chi2, mutual_info_classif\n",
    "from sklearn.decomposition import PCA\n",
    "from sklearn.metrics import (\n",
    "    accuracy_score,\n",
    "    classification_report,\n",
    "    f1_score,\n",
    "    confusion_matrix,\n",
    ")\n",
    "from sklearn.ensemble import RandomForestClassifier\n",
    "\n",
    "from IPython.display import display\n",
    "import ipywidgets as widgets\n",
    "\n",
    "import os\n",
    "\n",
    "import pickle\n"
   ]
  },
  {
   "cell_type": "markdown",
   "metadata": {},
   "source": [
    "---"
   ]
  },
  {
   "cell_type": "markdown",
   "metadata": {},
   "source": [
    "## 🔢 Feature Extraction\n",
    "\n",
    "<!-- TODO: Explain -->\n",
    "\n",
    "| Model               | Best Feature Extraction Method |\n",
    "| :------------------ | :----------------------------- |\n",
    "| Random Forest       | TF-IDF + Chi-Square            |\n",
    "| Logistic Regression | TF-IDF + Information Gain      |\n",
    "| Gradient Boosting   | GloVe + PCA                    |\n",
    "<!-- | SVM                 | TF-IDF + BoW                   |\n",
    "| DistilBERT          | Fine-tuned BERT embeddings     | -->\n"
   ]
  },
  {
   "cell_type": "code",
   "execution_count": 2,
   "metadata": {},
   "outputs": [],
   "source": [
    "final_train_df = pd.read_csv(\"dataset_and_corpora/augmented_train_senti.csv\")\n"
   ]
  },
  {
   "cell_type": "code",
   "execution_count": 3,
   "metadata": {},
   "outputs": [],
   "source": [
    "def save_vectorizer(model, filename, folder=\"vectorizers\"):\n",
    "    \"\"\"Save a model or object to the specified folder.\"\"\"\n",
    "    os.makedirs(folder, exist_ok=True)\n",
    "    filepath = os.path.join(folder, filename)\n",
    "    with open(filepath, \"wb\") as f:\n",
    "        pickle.dump(model, f)\n",
    "    print(f\"[INFO] Saved model to {filepath}\")\n"
   ]
  },
  {
   "cell_type": "markdown",
   "metadata": {},
   "source": [
    "### TF-IDF Feature Extarction\n",
    "\n",
    "TF-IDF (Term Frequency-Inverse Document Frequency) is a statistical measure used in natural language processing and information retrieval to evaluate the importance of a word in a document relative to a collection of documents (corpus).\n"
   ]
  },
  {
   "cell_type": "code",
   "execution_count": 4,
   "metadata": {},
   "outputs": [],
   "source": [
    "def extract_tfidf_features(df: pd.DataFrame, max_features: int = 5000) -> csr_matrix:\n",
    "    \"\"\"\n",
    "    Extract TF-IDF features from the 'content' column of the DataFrame.\n",
    "\n",
    "    :param df: Input DataFrame with a 'content' column\n",
    "    :param max_features: Maximum number of features to extract\n",
    "    :return: TF-IDF features as a sparse matrix\n",
    "    \"\"\"\n",
    "\n",
    "    progress = widgets.IntProgress(value=0, min=0, max=1, description=\"TF-IDF:\")\n",
    "    display(progress)\n",
    "\n",
    "    df[\"content\"] = df[\"content\"].fillna(\"\")\n",
    "    vectorizer = TfidfVectorizer(max_features=max_features)\n",
    "    tfidf_features = csr_matrix(vectorizer.fit_transform(df[\"content\"]))\n",
    "    save_vectorizer(vectorizer, \"final_tfidf_vectorizer.pkl\")\n",
    "\n",
    "    progress.value = 1\n",
    "    return tfidf_features\n"
   ]
  },
  {
   "cell_type": "markdown",
   "metadata": {},
   "source": [
    "#### Chi-Square Feature Extraction\n",
    "\n",
    "=yes()"
   ]
  },
  {
   "cell_type": "code",
   "execution_count": 5,
   "metadata": {},
   "outputs": [],
   "source": [
    "def extract_chi2_features(\n",
    "    tfidf_features: csr_matrix, labels: np.ndarray, k: int = 5000\n",
    ") -> csr_matrix:\n",
    "    \"\"\"\n",
    "    Extract top k features using the Chi-Square test.\n",
    "\n",
    "    :param tfidf_features: TF-IDF features as a sparse matrix\n",
    "    :param labels: Labels corresponding to the features\n",
    "    :param k: Number of top features to select\n",
    "    :return: Reduced feature set as a sparse matrix\n",
    "    \"\"\"\n",
    "    progress = widgets.IntProgress(value=0, min=0, max=1, description=\"Chi2:\")\n",
    "    display(progress)\n",
    "\n",
    "    chi2_selector = SelectKBest(chi2, k=k)\n",
    "    chi2_features = csr_matrix(chi2_selector.fit_transform(tfidf_features, labels))\n",
    "\n",
    "    save_vectorizer(chi2_selector, \"final_chi2_selector.pkl\")\n",
    "    progress.value = 1\n",
    "    return chi2_features\n"
   ]
  },
  {
   "cell_type": "markdown",
   "metadata": {},
   "source": [
    "#### Bag of Words Feature Extraction\n",
    "\n",
    "=yes()"
   ]
  },
  {
   "cell_type": "code",
   "execution_count": 6,
   "metadata": {},
   "outputs": [],
   "source": [
    "def extract_bow_features(tfidf_vectorizer: TfidfVectorizer, df: pd.DataFrame):\n",
    "    \"\"\"\n",
    "    Extract Bag of Words (BoW) features based on the vocabulary of a fitted TF-IDF vectorizer.\n",
    "    \"\"\"\n",
    "\n",
    "    progress = widgets.IntProgress(value=0, min=0, max=1, description=\"BoW:\")\n",
    "    display(progress)\n",
    "\n",
    "    df[\"content\"] = df[\"content\"].fillna(\"\")\n",
    "\n",
    "    bow_vectorizer = CountVectorizer(vocabulary=tfidf_vectorizer.vocabulary_)\n",
    "\n",
    "    bow_features = bow_vectorizer.fit_transform(df[\"content\"])\n",
    "\n",
    "    save_vectorizer(bow_vectorizer, \"final_bow_vectorizer.pkl\")\n",
    "\n",
    "    progress.value = 1\n",
    "    return bow_features\n"
   ]
  },
  {
   "cell_type": "markdown",
   "metadata": {},
   "source": [
    "#### Information Gain Feature Extraction\n",
    "\n",
    "=yes()"
   ]
  },
  {
   "cell_type": "code",
   "execution_count": 7,
   "metadata": {},
   "outputs": [],
   "source": [
    "def extract_information_gain_features(\n",
    "    tfidf_features: csr_matrix, labels: np.ndarray, k: int = 5000\n",
    ") -> np.ndarray:\n",
    "    \"\"\"\n",
    "    Extract top k features using Information Gain (Mutual Information)\n",
    "    and return (reduced features as array, fitted SelectKBest object).\n",
    "    \"\"\"\n",
    "    progress = widgets.IntProgress(value=0, min=0, max=1, description=\"InfoGain:\")\n",
    "    display(progress)\n",
    "\n",
    "    labels = labels.astype(int)\n",
    "\n",
    "    infogain_selector = SelectKBest(score_func=mutual_info_classif, k=k)\n",
    "    reduced_features = infogain_selector.fit_transform(tfidf_features, labels)\n",
    "\n",
    "    save_vectorizer(infogain_selector, \"final_infogain_selector.pkl\")\n",
    "\n",
    "    progress.value = 1\n",
    "    return reduced_features\n"
   ]
  },
  {
   "cell_type": "markdown",
   "metadata": {},
   "source": [
    "### GloVe Feature Extraction\n",
    "\n",
    "GloVe is an unsupervised learning algorithm for obtaining vector representations for words. Training is performed on aggregated global word-word co-occurrence statistics from a corpus, and the resulting representations showcase interesting linear substructures of the word vector space.\n",
    "\n",
    "**Introduced in** Jeffrey Pennington, Richard Socher, and Christopher D. Manning. 2014. [GloVe: Global Vectors for Word Representation](https://nlp.stanford.edu/pubs/glove.pdf).\n",
    "\n",
    "Before running the cell, please download and move the pre-trained word vectors (Wikipedia 2014 + Gigaword 5) from [here](https://nlp.stanford.edu/data/glove.6B.zip) to the `datasets_and_corpora` folder"
   ]
  },
  {
   "cell_type": "code",
   "execution_count": 8,
   "metadata": {},
   "outputs": [],
   "source": [
    "def extract_glove_features(\n",
    "    df: pd.DataFrame,\n",
    "    glove_path: str = \"dataset_and_corpora/glove.6B.100d.txt\",\n",
    "    embedding_dim: int = 100,\n",
    ") -> np.ndarray:\n",
    "    \"\"\"\n",
    "    Extract GloVe features from the 'content' column of the DataFrame.\n",
    "\n",
    "    :param df: Input DataFrame with a 'content' column\n",
    "    :param glove_path: Path to the GloVe embeddings file\n",
    "    :param embedding_dim: Dimension of the GloVe embeddings\n",
    "    :return: GloVe features as a NumPy array\n",
    "    \"\"\"\n",
    "    progress = widgets.IntProgress(value=0, min=0, max=len(df), description=\"GloVe:\")\n",
    "    display(progress)\n",
    "\n",
    "    # Load GloVe embeddings\n",
    "    glove_embeddings = {}\n",
    "    with open(glove_path, \"r\", encoding=\"utf-8\") as f:\n",
    "        for line in f:\n",
    "            values = line.split()\n",
    "            word = values[0]\n",
    "            vector = np.asarray(values[1:], dtype=\"float32\")\n",
    "            glove_embeddings[word] = vector\n",
    "\n",
    "    # Compute sentence embeddings\n",
    "    sentences = [content.split() for content in df[\"content\"]]\n",
    "    glove_features = np.array(\n",
    "        [\n",
    "            np.mean(\n",
    "                [\n",
    "                    glove_embeddings[word]\n",
    "                    for word in sentence\n",
    "                    if word in glove_embeddings\n",
    "                ]\n",
    "                or [np.zeros(embedding_dim, dtype=\"float32\")],\n",
    "                axis=0,\n",
    "            )\n",
    "            for sentence in sentences\n",
    "        ]\n",
    "    )\n",
    "\n",
    "    for _ in range(len(df)):\n",
    "        progress.value += 1\n",
    "\n",
    "    return glove_features\n"
   ]
  },
  {
   "cell_type": "markdown",
   "metadata": {},
   "source": [
    "#### PCA Feature Extraction\n",
    "\n",
    "=yes()"
   ]
  },
  {
   "cell_type": "code",
   "execution_count": 9,
   "metadata": {},
   "outputs": [],
   "source": [
    "def perform_pca(features: np.ndarray, n_components: int = 100) -> np.ndarray:\n",
    "    \"\"\"\n",
    "    Perform PCA on the given features to reduce dimensionality.\n",
    "\n",
    "    :param features: Input features as a NumPy array\n",
    "    :param n_components: Number of principal components to retain\n",
    "    :return: Reduced features as a NumPy array\n",
    "    \"\"\"\n",
    "    pca = PCA(n_components=n_components)\n",
    "    reduced_features = pca.fit_transform(features)\n",
    "\n",
    "    save_vectorizer(pca, \"final_pca_model.pkl\")\n",
    "\n",
    "    return reduced_features\n"
   ]
  },
  {
   "cell_type": "markdown",
   "metadata": {},
   "source": [
    "---"
   ]
  },
  {
   "cell_type": "markdown",
   "metadata": {},
   "source": [
    "## 🌳 Random Forest\n",
    "\n",
    "A Random Forest is a powerful ensemble machine learning algorithm that builds and aggregates the predictions of multiple [decision trees](https://scikit-learn.org/stable/modules/tree.html) to improve accuracy, robustness, and generalization. It is especially effective for classification tasks such as fake news detection, where complex patterns and high-dimensional feature spaces are common. In this implementation, we use scikit-learn’s [RandomForestClassifier](https://scikit-learn.org/stable/modules/generated/sklearn.ensemble.RandomForestClassifier.html) with `n_estimators=100`, meaning the ensemble consists of 100 individual decision trees\n",
    "\n",
    "The following code performs:\n",
    "1. _[Feature Loading](#loading-tf-idf--chi-square-features):_ Loading the preprocessed features ([TF-IDF vectors selected by Chi-Squared test](#chi-square-feature-extraction))\n",
    "2. _[K-Fold Cross-Validation](#test-rf-with-k-fold-cross-validation):_ Uses 5-fold cross-validation to evaluate the models performance.\n",
    "3. _Ensemble Predictions:_ Store the predictions (in [`predictions/rf_ensemble_predictions.pkl`](predictions/rf_ensemble_predictions.pkl)) of all folds to enable the ensemble analysis.\n",
    "4. _[Final Model](#train-rf-on-training-set):_ A final Random Forest model is trained on the entire testing set and saves the final trained model (in [`models/rf_model.pkl`](models/rf_model.pkl)) for future use."
   ]
  },
  {
   "cell_type": "markdown",
   "metadata": {},
   "source": [
    "### Loading TF-IDF + Chi-Square Features"
   ]
  },
  {
   "cell_type": "code",
   "execution_count": 10,
   "metadata": {},
   "outputs": [],
   "source": [
    "labels = final_train_df[\"label\"].to_numpy()\n"
   ]
  },
  {
   "cell_type": "markdown",
   "metadata": {},
   "source": [
    "### Test RF with K-Fold Cross-Validation"
   ]
  },
  {
   "cell_type": "code",
   "execution_count": 11,
   "metadata": {},
   "outputs": [],
   "source": [
    "def rf_KCross_Val(name, features):\n",
    "    k = 5\n",
    "    kf = KFold(n_splits=k, shuffle=True, random_state=42)\n",
    "\n",
    "    fold_accuracies = []\n",
    "    ensemble_predictions = np.zeros((features.shape[0], len(np.unique(labels))))\n",
    "    print(f\"Running {name} with {k}-fold cross-validation...\")\n",
    "    for fold, (train_idx, test_idx) in enumerate(kf.split(features)):\n",
    "        print(f\"Fold {fold + 1}/{k}\")\n",
    "\n",
    "        X_train, X_test = features[train_idx], features[test_idx]\n",
    "        y_train, y_test = labels[train_idx], labels[test_idx]\n",
    "\n",
    "        rf_model = RandomForestClassifier(n_estimators=100, random_state=42)\n",
    "        rf_model.fit(X_train, y_train)\n",
    "\n",
    "        y_pred = rf_model.predict(X_test)\n",
    "        y_pred_proba = rf_model.predict_proba(X_test)\n",
    "\n",
    "        ensemble_predictions[test_idx] = y_pred_proba\n",
    "        accuracy = accuracy_score(y_test, y_pred)\n",
    "        fold_accuracies.append(accuracy)\n",
    "\n",
    "        print(f\"Accuracy: {accuracy:.4f}\")\n",
    "        print(classification_report(y_test, y_pred))\n",
    "\n",
    "    print(f\"\\nAverage Accuracy: {np.mean(fold_accuracies):.4f}\")\n",
    "\n",
    "    with open(f\"predictions/rf_w_{name}_ensemble_predictions.pkl\", \"wb\") as file:\n",
    "        pickle.dump(ensemble_predictions, file)\n"
   ]
  },
  {
   "cell_type": "markdown",
   "metadata": {},
   "source": [
    "### Train RF on Training Set"
   ]
  },
  {
   "cell_type": "code",
   "execution_count": 13,
   "metadata": {},
   "outputs": [],
   "source": [
    "def rf_final_model(name, features):\n",
    "    \"\"\"\n",
    "    Train a final Random Forest model on the entire dataset and save it.\n",
    "    \"\"\"\n",
    "    print(f\"Training final Random Forest model with {name}...\")\n",
    "    final_rf_model = RandomForestClassifier(n_estimators=100, random_state=42)\n",
    "    final_rf_model.fit(features, labels)\n",
    "\n",
    "    # Save the final trained model\n",
    "    with open(f\"models/{name}_rf_model.pkl\", \"wb\") as file:\n",
    "        pickle.dump(final_rf_model, file)\n",
    "\n",
    "    print(\"Final Random Forest model trained on the full dataset and saved!\")\n"
   ]
  },
  {
   "cell_type": "code",
   "execution_count": null,
   "metadata": {},
   "outputs": [],
   "source": [
    "# with open(\"features/tfidf_chi2_features.pkl\", \"rb\") as file:\n",
    "#     features = pickle.load(file)\n",
    "\n",
    "# # No need to convert to a dense array; work with the sparse matrix directly\n",
    "# if not isinstance(features, csr_matrix):\n",
    "#     features = csr_matrix(features)\n",
    "\n",
    "# rf_KCross_Val(\"tfidf_chi2\", features)\n",
    "# rf_final_model(\"tfidf_chi2\", features)\n",
    "# del features\n",
    "\n",
    "with open(\"features/tfidf_info_gain_features.pkl\", \"rb\") as file:\n",
    "    features = pickle.load(file)\n",
    "# No need to convert to a dense array; work with the sparse matrix directly\n",
    "# Ensure the features remain in sparse format\n",
    "if not issparse(features):\n",
    "    features = csr_matrix(features)\n",
    "rf_KCross_Val(\"tfidf_infogain\", features)\n",
    "rf_final_model(\"tfidf_infogain\", features)\n",
    "del features\n"
   ]
  },
  {
   "cell_type": "code",
   "execution_count": 14,
   "metadata": {},
   "outputs": [
    {
     "name": "stdout",
     "output_type": "stream",
     "text": [
      "Training final Random Forest model with tfidf_bow...\n",
      "Final Random Forest model trained on the full dataset and saved!\n"
     ]
    }
   ],
   "source": [
    "with open(\"features/tfidf_bow_features.pkl\", \"rb\") as file:\n",
    "    features = pickle.load(file)\n",
    "if not isinstance(features, csr_matrix):\n",
    "    features = csr_matrix(features)\n",
    "\n",
    "# Perform cross-validation on the entire dataset\n",
    "# rf_KCross_Val(\"tfidf_bow\", features)\n",
    "rf_final_model(\"tfidf_bow\", features)\n",
    "del features\n"
   ]
  },
  {
   "cell_type": "code",
   "execution_count": null,
   "metadata": {},
   "outputs": [],
   "source": [
    "with open(\"features/glove_pca_features.pkl\", \"rb\") as file:\n",
    "    features = pickle.load(file)\n",
    "if not isinstance(features, csr_matrix):\n",
    "    features = csr_matrix(features)\n",
    "\n",
    "rf_KCross_Val(\"glove_pca\", features)\n",
    "rf_final_model(\"glove_pca\", features)\n",
    "del features\n"
   ]
  },
  {
   "cell_type": "markdown",
   "metadata": {},
   "source": [
    "# 4. 🍎 Testing Testing\n",
    "\n"
   ]
  },
  {
   "cell_type": "markdown",
   "metadata": {},
   "source": [
    "## Test Set Feature Extraction"
   ]
  },
  {
   "cell_type": "code",
   "execution_count": 15,
   "metadata": {},
   "outputs": [],
   "source": [
    "class TestFeatureExtractor:\n",
    "    def __init__(self):\n",
    "        \"\"\"Load all pre-fitted vectorizers, selectors, and models needed for test feature extraction.\"\"\"\n",
    "        print(\"[INFO] Loading feature extractors...\")\n",
    "\n",
    "        # Load TF-IDF Vectorizer\n",
    "        with open(\"vectorizers/final_tfidf_vectorizer.pkl\", \"rb\") as f:\n",
    "            self.tfidf_vectorizer = pickle.load(f)\n",
    "\n",
    "        # Load Chi2 Selector\n",
    "        with open(\"vectorizers/final_chi2_selector.pkl\", \"rb\") as f:\n",
    "            self.chi2_selector = pickle.load(f)\n",
    "\n",
    "        # Load BoW Vectorizer\n",
    "        with open(\"vectorizers/final_bow_vectorizer.pkl\", \"rb\") as f:\n",
    "            self.bow_vectorizer = pickle.load(f)\n",
    "\n",
    "        # Load InfoGain Selector\n",
    "        with open(\"vectorizers/final_infogain_selector.pkl\", \"rb\") as f:\n",
    "            self.infogain_selector = pickle.load(f)\n",
    "\n",
    "        # Load GloVe Embeddings (correct way)\n",
    "        self.glove_embeddings = self.load_glove_embeddings(\n",
    "            \"dataset_and_corpora/glove.6B.100d.txt\"\n",
    "        )\n",
    "\n",
    "        # Load PCA model for GloVe\n",
    "        with open(\"vectorizers/final_pca_model.pkl\", \"rb\") as f:\n",
    "            self.pca_model = pickle.load(f)\n",
    "\n",
    "    def load_glove_embeddings(self, glove_file_path):\n",
    "        \"\"\"Load GloVe embeddings from a text file into a dictionary.\"\"\"\n",
    "        print(\"[INFO] Loading GloVe embeddings...\")\n",
    "        embeddings = {}\n",
    "        with open(glove_file_path, \"r\", encoding=\"utf-8\") as f:\n",
    "            for line in f:\n",
    "                values = line.strip().split()\n",
    "                word = values[0]\n",
    "                vector = np.asarray(values[1:], dtype=np.float32)\n",
    "                embeddings[word] = vector\n",
    "        print(f\"[INFO] Loaded {len(embeddings)} word vectors from GloVe.\")\n",
    "        return embeddings\n",
    "\n",
    "    def transform_tfidf(self, df):\n",
    "        \"\"\"Transform data using pre-fitted TF-IDF vectorizer.\"\"\"\n",
    "        return self.tfidf_vectorizer.transform(df[\"content\"])\n",
    "\n",
    "    def transform_bow(self, df, max_features=5000):\n",
    "        \"\"\"Transform data using pre-fitted BoW vectorizer.\"\"\"\n",
    "        bow_matrix = self.bow_vectorizer.transform(df[\"content\"])\n",
    "        return bow_matrix.toarray()[:, :max_features]\n",
    "\n",
    "    def transform_chi2(self, tfidf_features):\n",
    "        \"\"\"Transform data using Chi2 selector.\"\"\"\n",
    "        return self.chi2_selector.transform(tfidf_features)\n",
    "\n",
    "    def transform_infogain(self, tfidf_features):\n",
    "        \"\"\"Transform data using InfoGain selector.\"\"\"\n",
    "        return self.infogain_selector.transform(tfidf_features)\n",
    "\n",
    "    def transform_glove(self, df, embedding_dim=100):\n",
    "        \"\"\"Extract GloVe sentence embeddings.\"\"\"\n",
    "        sentences = [content.split() for content in df[\"content\"]]\n",
    "        glove_features = np.array(\n",
    "            [\n",
    "                np.mean(\n",
    "                    [\n",
    "                        self.glove_embeddings.get(word, np.zeros(embedding_dim))\n",
    "                        for word in sentence\n",
    "                    ]\n",
    "                    or [np.zeros(embedding_dim)],\n",
    "                    axis=0,\n",
    "                )\n",
    "                for sentence in sentences\n",
    "            ]\n",
    "        )\n",
    "        return glove_features\n",
    "\n",
    "    def transform_pca_on_glove(self, glove_features):\n",
    "        \"\"\"Reduce GloVe embeddings using pre-fitted PCA.\"\"\"\n",
    "        return self.pca_model.transform(glove_features)\n",
    "\n",
    "    def extract_all_features(self, df):\n",
    "        \"\"\"Main function to transform test data for all models.\"\"\"\n",
    "        tfidf_features = self.transform_tfidf(df)\n",
    "\n",
    "        features = {\n",
    "            \"bow\": self.transform_bow(df),\n",
    "            \"chi2\": self.transform_chi2(tfidf_features),\n",
    "            \"infogain\": self.transform_infogain(tfidf_features),\n",
    "        }\n",
    "\n",
    "        glove_features = self.transform_glove(df)\n",
    "        glove_pca_features = self.transform_pca_on_glove(glove_features)\n",
    "        features[\"glove_pca\"] = glove_pca_features\n",
    "\n",
    "        return features\n"
   ]
  },
  {
   "cell_type": "code",
   "execution_count": 16,
   "metadata": {},
   "outputs": [
    {
     "name": "stdout",
     "output_type": "stream",
     "text": [
      "[INFO] Loading feature extractors...\n",
      "[INFO] Loading GloVe embeddings...\n",
      "[INFO] Loaded 400000 word vectors from GloVe.\n"
     ]
    }
   ],
   "source": [
    "test_df = pd.read_csv(\"dataset_and_corpora/cleaned_test.csv\")\n",
    "\n",
    "feature_extractor = TestFeatureExtractor()\n",
    "\n",
    "test_labels = pd.read_csv(\"dataset_and_corpora/cleaned_test.csv\")[\"label\"].to_numpy()\n",
    "\n",
    "features = feature_extractor.extract_all_features(test_df)\n"
   ]
  },
  {
   "cell_type": "markdown",
   "metadata": {},
   "source": [
    "## Loading Models an Stroing Features"
   ]
  },
  {
   "cell_type": "code",
   "execution_count": 17,
   "metadata": {},
   "outputs": [],
   "source": [
    "with open(\"models/tfidf_chi2_rf_model.pkl\", \"rb\") as f:\n",
    "    rf_model_tfidf_chi2 = pickle.load(f)\n",
    "with open(\"models/tfidf_info_gain_rf_model.pkl\", \"rb\") as f:\n",
    "    rf_model_tfidf_infogain = pickle.load(f)\n",
    "with open(\"models/tfidf_bow_rf_model.pkl\", \"rb\") as f:\n",
    "    rf_model_tfidf_bow = pickle.load(f)\n",
    "# with open(\"models/glove_pca_rf_model.pkl\", \"rb\") as f:\n",
    "# rf_model_glove_pca = pickle.load(f)\n",
    "\n",
    "X_chi2 = features[\"chi2\"]\n",
    "X_infogain = features[\"infogain\"]\n",
    "X_bow = features[\"bow\"]\n",
    "X_glove_pca = features[\"glove_pca\"]\n",
    "y_true = test_df[\"label\"].to_numpy()\n"
   ]
  },
  {
   "cell_type": "markdown",
   "metadata": {},
   "source": [
    "## Individual Model Evaluation Function"
   ]
  },
  {
   "cell_type": "code",
   "execution_count": 20,
   "metadata": {},
   "outputs": [],
   "source": [
    "def evaluate_model(name, y_true, y_pred):\n",
    "    \"\"\"Evaluate the performance of a model.\"\"\"\n",
    "    acc = accuracy_score(y_true, y_pred)\n",
    "    f1 = f1_score(y_true, y_pred)\n",
    "    report = classification_report(y_true, y_pred)\n",
    "    matrix = confusion_matrix(y_true, y_pred)\n",
    "\n",
    "    print(f\"\\n=== {name} Evaluation ===\")\n",
    "\n",
    "    print(f\"Accuracy: {acc:.4f}\")\n",
    "    print(f\"F1 Score: {f1:.4f}\")\n",
    "    print(\"Classification Report:\\n\", report)\n",
    "    print(\"Confusion Matrix:\\n\", matrix)\n",
    "\n",
    "    # Save textual metrics\n",
    "    with open(f\"evaluations/{name}_metrics.txt\", \"w\") as f:\n",
    "        f.write(f\"Accuracy: {acc:.4f}\\n\")\n",
    "        f.write(f\"F1 Score: {f1:.4f}\\n\\n\")\n",
    "        f.write(\"Classification Report:\\n\")\n",
    "        f.write(str(report))\n",
    "        f.write(\"\\nConfusion Matrix:\\n\")\n",
    "        f.write(np.array2string(matrix))\n",
    "\n",
    "    print(f\"[INFO] Saved metrics to {name}_metrics.txt\\n\")\n",
    "\n",
    "    # Plot and save confusion matrix with percentages\n",
    "    cm_percent = matrix.astype(\"float\") / matrix.sum(axis=1)[:, np.newaxis] * 100\n",
    "    annot = np.array([[f\"{val:.2f}%\" for val in row] for row in cm_percent])\n",
    "\n",
    "    plt.figure(figsize=(6, 5))\n",
    "    ax = sns.heatmap(\n",
    "        cm_percent,\n",
    "        annot=annot,\n",
    "        fmt=\"\",\n",
    "        cmap=\"Blues\",\n",
    "        cbar=True,\n",
    "        xticklabels=[\"Pred Fake\", \"Pred True\"],\n",
    "        yticklabels=[\"Actual Fake\", \"Actual True\"],\n",
    "    )\n",
    "    ax.xaxis.set_ticks_position(\"top\")\n",
    "    ax.xaxis.set_label_position(\"top\")\n",
    "    plt.title(f\"{name}\", pad=40)\n",
    "    plt.xlabel(\"Predicted Label\")\n",
    "    plt.ylabel(\"True Label\")\n",
    "    plt.tight_layout()\n",
    "    plt.savefig(f\"assets/confusion_matrix_{name}.png\")\n",
    "    plt.show()\n"
   ]
  },
  {
   "cell_type": "code",
   "execution_count": 21,
   "metadata": {},
   "outputs": [
    {
     "name": "stdout",
     "output_type": "stream",
     "text": [
      "\n",
      "=== Random Forest with TF-IDF+Chi2 Evaluation ===\n",
      "Accuracy: 0.9409\n",
      "F1 Score: 0.9414\n",
      "Classification Report:\n",
      "               precision    recall  f1-score   support\n",
      "\n",
      "           0       0.94      0.94      0.94      7089\n",
      "           1       0.94      0.94      0.94      7203\n",
      "\n",
      "    accuracy                           0.94     14292\n",
      "   macro avg       0.94      0.94      0.94     14292\n",
      "weighted avg       0.94      0.94      0.94     14292\n",
      "\n",
      "Confusion Matrix:\n",
      " [[6664  425]\n",
      " [ 419 6784]]\n",
      "[INFO] Saved metrics to Random Forest with TF-IDF+Chi2_metrics.txt\n",
      "\n"
     ]
    },
    {
     "data": {
      "image/png": "[encoded data removed]",
      "text/plain": [
       "<Figure size 600x500 with 2 Axes>"
      ]
     },
     "metadata": {},
     "output_type": "display_data"
    },
    {
     "name": "stdout",
     "output_type": "stream",
     "text": [
      "\n",
      "=== Random Forest with TF-IDF+Information Gain Evaluation ===\n",
      "Accuracy: 0.9409\n",
      "F1 Score: 0.9414\n",
      "Classification Report:\n",
      "               precision    recall  f1-score   support\n",
      "\n",
      "           0       0.94      0.94      0.94      7089\n",
      "           1       0.94      0.94      0.94      7203\n",
      "\n",
      "    accuracy                           0.94     14292\n",
      "   macro avg       0.94      0.94      0.94     14292\n",
      "weighted avg       0.94      0.94      0.94     14292\n",
      "\n",
      "Confusion Matrix:\n",
      " [[6664  425]\n",
      " [ 419 6784]]\n",
      "[INFO] Saved metrics to Random Forest with TF-IDF+Information Gain_metrics.txt\n",
      "\n"
     ]
    },
    {
     "data": {
      "image/png": "[encoded data removed]",
      "text/plain": [
       "<Figure size 600x500 with 2 Axes>"
      ]
     },
     "metadata": {},
     "output_type": "display_data"
    },
    {
     "name": "stdout",
     "output_type": "stream",
     "text": [
      "\n",
      "=== Random Forest with TF-IDF+BoW Evaluation ===\n",
      "Accuracy: 0.9408\n",
      "F1 Score: 0.9407\n",
      "Classification Report:\n",
      "               precision    recall  f1-score   support\n",
      "\n",
      "           0       0.93      0.95      0.94      7089\n",
      "           1       0.95      0.93      0.94      7203\n",
      "\n",
      "    accuracy                           0.94     14292\n",
      "   macro avg       0.94      0.94      0.94     14292\n",
      "weighted avg       0.94      0.94      0.94     14292\n",
      "\n",
      "Confusion Matrix:\n",
      " [[6731  358]\n",
      " [ 488 6715]]\n",
      "[INFO] Saved metrics to Random Forest with TF-IDF+BoW_metrics.txt\n",
      "\n"
     ]
    },
    {
     "data": {
      "image/png": "[encoded data removed]",
      "text/plain": [
       "<Figure size 600x500 with 2 Axes>"
      ]
     },
     "metadata": {},
     "output_type": "display_data"
    }
   ],
   "source": [
    "# === Random Forest with Chi-Square===\n",
    "y_pred_rf = rf_model_tfidf_chi2.predict(X_chi2)\n",
    "evaluate_model(\"Random Forest with TF-IDF+Chi2\", y_true, y_pred_rf)\n",
    "\n",
    "#  === Random Forest with Info Gain ===\n",
    "y_pred_rf_infogain = rf_model_tfidf_infogain.predict(X_infogain)\n",
    "evaluate_model(\"Random Forest with TF-IDF+Information Gain\", y_true, y_pred_rf_infogain)\n",
    "\n",
    "# === Random Forest with GloVe PCA ===\n",
    "# y_pred_rf_glove_pca = rf_model_glove_pca.predict(X_glove_pca)\n",
    "# evaluate_model(\"Random Forest with GloVe+PCA\", y_true, y_pred_rf_glove_pca)\n",
    "\n",
    "# === Random Forest with BoW ===\n",
    "y_pred_rf_bow = rf_model_tfidf_bow.predict(X_bow)\n",
    "evaluate_model(\"Random Forest with TF-IDF+BoW\", y_true, y_pred_rf_bow)\n"
   ]
  }
 ],
 "metadata": {
  "kernelspec": {
   "display_name": "proj",
   "language": "python",
   "name": "python3"
  },
  "language_info": {
   "codemirror_mode": {
    "name": "ipython",
    "version": 3
   },
   "file_extension": ".py",
   "mimetype": "text/x-python",
   "name": "python",
   "nbconvert_exporter": "python",
   "pygments_lexer": "ipython3",
   "version": "3.12.9"
  }
 },
 "nbformat": 4,
 "nbformat_minor": 2
}
